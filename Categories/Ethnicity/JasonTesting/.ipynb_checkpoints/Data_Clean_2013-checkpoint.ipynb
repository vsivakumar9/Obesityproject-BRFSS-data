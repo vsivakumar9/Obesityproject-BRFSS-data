{
 "cells": [
  {
   "cell_type": "code",
   "execution_count": null,
   "metadata": {},
   "outputs": [],
   "source": [
    "import pandas as pd\n",
    "import numpy as np\n",
    "import csv\n",
    "import matplotlib.pyplot as plt\n",
    "\n",
    "pd.options.mode.chained_assignment = None\n",
    "\n",
    "riskdf = pd.read_sas('Resources\\LLCP2013.XPT')\n",
    "\n",
    "fip_state = pd.read_csv('fips_to_state.csv')\n",
    "\n",
    "riskdf.head()"
   ]
  },
  {
   "cell_type": "code",
   "execution_count": null,
   "metadata": {},
   "outputs": [],
   "source": [
    "# Re-naming the _STATE to fips for merging the FIPS DF and New DF# Re-nam \n",
    "riskdf = riskdf.rename(columns={\"_STATE\":\"fips\"})\n",
    "riskdf = riskdf.merge(fip_state,on=\"fips\")\n",
    "# Dropping the fips column as it is not required further\n",
    "riskdf.drop([\"fips\"],axis=1,inplace=True)"
   ]
  },
  {
   "cell_type": "code",
   "execution_count": null,
   "metadata": {},
   "outputs": [],
   "source": [
    "#create a new dataframe with the columns we want\n",
    "newdf = riskdf[['state_abbr', 'IDATE' , '_BMI5CAT', '_RFBMI5', '_RACE', '_RACEGR3']]\n",
    "\n",
    "newdf.head()"
   ]
  },
  {
   "cell_type": "code",
   "execution_count": null,
   "metadata": {},
   "outputs": [],
   "source": [
    "#fill in columns with data based on the 2016 codebook\n",
    "#reference: https://www.cdc.gov/brfss/annual_data/2016/pdf/codebook16_llcp.pdf\n",
    "newdf[\"IDATE\"] = newdf[\"IDATE\"].str.decode(\"utf-8\")\n",
    "newdf[\"_BMI5CAT\"] = newdf[\"_BMI5CAT\"].replace({1:\"Underweight\", 2.0:\"Normal Weight\", 3.0:\"Overweight\", 4.0:\"Obese\", None:\"Don't know/Refused/Missing\"})\n",
    "newdf[\"_RFBMI5\"]= newdf[\"_RFBMI5\"].replace({1.0:\"No\", 2.0:\"Yes\", 9.0:\"Don’t know/Refused/Missing\"})\n",
    "newdf[\"_RACE\"] = newdf[\"_RACE\"].replace({1.0:\"White, Non-Hispanic\", 2.0:\"Black, Non-Hispanic\", 3.0:\"American Indian/Alaskan Native\", 4.0:\"Asian\", 5.0: \"Native Hawaiian/Pacific Islander\", 6.0: \"Other Race, Non-Hispanic\", 7.0: \"Multiracial, Non-Hispanic\", 8.0: \"Hispanic\", 9.0: \"Don't Know/Not Sure/Refused\"})\n",
    "\n",
    "newdf = newdf.rename(columns={\"state_abbr\": \"State\", \n",
    "                              \"IDATE\": \"Date\", \n",
    "                              \"_BMI5CAT\": \"BMI Category\", \n",
    "                              \"_RFBMI5\": \"BMI Over 25\", \n",
    "                              \"_RACE\": \"Race/Ethnicity (General)\",})\n",
    "\n",
    "newdf.head()"
   ]
  },
  {
   "cell_type": "code",
   "execution_count": null,
   "metadata": {},
   "outputs": [],
   "source": [
    "#save to csv\n",
    "newdf.to_csv(\"ObesityEthnicity2013.csv\",index=False)"
   ]
  }
 ],
 "metadata": {
  "kernelspec": {
   "display_name": "Python 3",
   "language": "python",
   "name": "python3"
  },
  "language_info": {
   "codemirror_mode": {
    "name": "ipython",
    "version": 3
   },
   "file_extension": ".py",
   "mimetype": "text/x-python",
   "name": "python",
   "nbconvert_exporter": "python",
   "pygments_lexer": "ipython3",
   "version": "3.6.4"
  }
 },
 "nbformat": 4,
 "nbformat_minor": 2
}
